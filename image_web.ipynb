{
  "nbformat": 4,
  "nbformat_minor": 0,
  "metadata": {
    "colab": {
      "provenance": [],
      "authorship_tag": "ABX9TyNIO1/QIyFZAUY2IUH5NmJ/",
      "include_colab_link": true
    },
    "kernelspec": {
      "name": "python3",
      "display_name": "Python 3"
    },
    "language_info": {
      "name": "python"
    }
  },
  "cells": [
    {
      "cell_type": "markdown",
      "metadata": {
        "id": "view-in-github",
        "colab_type": "text"
      },
      "source": [
        "<a href=\"https://colab.research.google.com/github/jeenykim/imageweb/blob/master/image_web.ipynb\" target=\"_parent\"><img src=\"https://colab.research.google.com/assets/colab-badge.svg\" alt=\"Open In Colab\"/></a>"
      ]
    },
    {
      "cell_type": "code",
      "execution_count": null,
      "metadata": {
        "id": "auVE2qYpivay"
      },
      "outputs": [],
      "source": [
        "pip install streamlit -q"
      ]
    },
    {
      "cell_type": "code",
      "source": [
        "pip install pyngrok"
      ],
      "metadata": {
        "colab": {
          "base_uri": "https://localhost:8080/"
        },
        "id": "t5ykGr0okUig",
        "outputId": "d14de664-3fb5-4f15-e5dd-c1a877a75ab7"
      },
      "execution_count": null,
      "outputs": [
        {
          "output_type": "stream",
          "name": "stdout",
          "text": [
            "Collecting pyngrok\n",
            "  Downloading pyngrok-7.0.5-py3-none-any.whl (21 kB)\n",
            "Requirement already satisfied: PyYAML in /usr/local/lib/python3.10/dist-packages (from pyngrok) (6.0.1)\n",
            "Installing collected packages: pyngrok\n",
            "Successfully installed pyngrok-7.0.5\n"
          ]
        }
      ]
    },
    {
      "cell_type": "code",
      "source": [
        "from pyngrok import ngrok"
      ],
      "metadata": {
        "id": "Cq6oRIi7kkZw"
      },
      "execution_count": null,
      "outputs": []
    },
    {
      "cell_type": "code",
      "source": [
        "ngrok.set_auth_token('2bRCrm212QIjxik9jN5ed1fhJod_5B1y8ZQq7979psFTH9BYr')"
      ],
      "metadata": {
        "colab": {
          "base_uri": "https://localhost:8080/"
        },
        "id": "WGdEivqupUww",
        "outputId": "dfa0d305-8309-4879-92df-a1511cfc5986"
      },
      "execution_count": null,
      "outputs": [
        {
          "output_type": "stream",
          "name": "stdout",
          "text": []
        }
      ]
    },
    {
      "cell_type": "code",
      "source": [
        "# %%writefile app.py"
      ],
      "metadata": {
        "id": "qbwbtMbIpnje"
      },
      "execution_count": null,
      "outputs": []
    },
    {
      "cell_type": "code",
      "source": [
        "import streamlit as st\n",
        "import tensorflow as tf\n",
        "from PIL import Image, ImageOps\n",
        "import numpy as np\n",
        "from tensorflow.keras.applications.imagenet_utils import decode_predictions\n",
        "\n",
        "resnet50_pre =  tf.keras.applications.regnet.ResNet50(weights='imagenet' , input_shape=(224, 224, 3))\n",
        "\n",
        "st.title('이미지분류 인공지능')\n",
        "file = st.file_uploader('이미지 올려주세요' , type=['jpg' , 'png'])\n",
        "\n",
        "if file is None:\n",
        "  st.text('이미지를 먼저 올려주세요')\n",
        "else:\n",
        "  image = Image.open(file)\n",
        "  st.image(image, use_column_width=True)\n"
      ],
      "metadata": {
        "id": "oczqxVTAqD6r"
      },
      "execution_count": null,
      "outputs": []
    },
    {
      "cell_type": "markdown",
      "source": [
        "streamlit: 웹구조\n",
        "tensorflow: 인공지능\n",
        "PIL: 이미지불러오거나 사이즈 조정\n",
        "numpy: 수치 연산을 수행하는 선형대수(Linear algebra) 라이브러리\n",
        "tensorflow안의 decode_predictions 함수는 어떤 이미지와 매칭이 되는지 확인\n",
        "st:웹페이지 제목\n",
        "file_uploader:이미지올리는 공간\n"
      ],
      "metadata": {
        "id": "euHHg2-RqwpX"
      }
    },
    {
      "cell_type": "code",
      "source": [],
      "metadata": {
        "id": "ylSgOrj1qvbC"
      },
      "execution_count": null,
      "outputs": []
    }
  ]
}